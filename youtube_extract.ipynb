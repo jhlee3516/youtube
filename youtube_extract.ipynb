{
 "cells": [
  {
   "cell_type": "markdown",
   "id": "dabbf984",
   "metadata": {},
   "source": [
    "## 잠깐만!\n",
    "깃허브에 업로드하기 전에 ```API_KEY```를 지웠는지 체크하세요!"
   ]
  },
  {
   "cell_type": "code",
   "execution_count": 1,
   "id": "27a26a98",
   "metadata": {},
   "outputs": [],
   "source": [
    "import pandas as pd\n",
    "import numpy as np\n",
    "from tensorflow import keras"
   ]
  },
  {
   "cell_type": "code",
   "execution_count": 2,
   "id": "b2af83ba",
   "metadata": {},
   "outputs": [],
   "source": [
    "API_KEY = \"\"\n",
    "CHANNEL_ID = \"\""
   ]
  },
  {
   "cell_type": "code",
   "execution_count": 3,
   "id": "702d0b08",
   "metadata": {},
   "outputs": [],
   "source": [
    "# 채널ID로 채널PlayList 찾기\n",
    "from googleapiclient.discovery import build\n",
    "youtube = build(\"youtube\", \"v3\", developerKey=API_KEY)\n",
    "res = youtube.channels().list(id=CHANNEL_ID, part='contentDetails').execute()\n",
    "CHANNEL_PLAYLIST = res[\"items\"][0][\"contentDetails\"][\"relatedPlaylists\"][\"uploads\"]"
   ]
  },
  {
   "cell_type": "code",
   "execution_count": 4,
   "id": "752df2a0",
   "metadata": {},
   "outputs": [],
   "source": [
    "# 유튜브 데이터 추출하기 (PubDate, Title, ViewCount)\n",
    "videos = youtube.playlistItems().list(playlistId=CHANNEL_PLAYLIST, part='snippet', maxResults=11).execute()\n",
    "items = videos['items']\n",
    "pubdate = []\n",
    "title = []\n",
    "viewcount = []\n",
    "\n",
    "for item in items:\n",
    "    pubdate.append(item['snippet']['publishedAt'])\n",
    "    title.append(item['snippet']['title'])\n",
    "    \n",
    "    videoId = item['snippet']['resourceId']['videoId']\n",
    "    view = youtube.videos().list(id=videoId, part='statistics').execute()\n",
    "    viewcount.append(view['items'][0]['statistics']['viewCount'])"
   ]
  },
  {
   "cell_type": "code",
   "execution_count": 5,
   "id": "887a874b",
   "metadata": {},
   "outputs": [],
   "source": [
    "# 조회수 정렬하기\n",
    "columns = ['pubdate','title','viewcount']\n",
    "df = pd.DataFrame(data=zip(pubdate, title, viewcount), columns=columns)\n",
    "df = df[1:]\n",
    "df['viewcount'] = df['viewcount'].astype('int')\n",
    "df = df.sort_values('viewcount', ascending=False)"
   ]
  },
  {
   "cell_type": "code",
   "execution_count": 38,
   "id": "b82012ef",
   "metadata": {
    "scrolled": true
   },
   "outputs": [
    {
     "data": {
      "text/html": [
       "<div>\n",
       "<style scoped>\n",
       "    .dataframe tbody tr th:only-of-type {\n",
       "        vertical-align: middle;\n",
       "    }\n",
       "\n",
       "    .dataframe tbody tr th {\n",
       "        vertical-align: top;\n",
       "    }\n",
       "\n",
       "    .dataframe thead th {\n",
       "        text-align: right;\n",
       "    }\n",
       "</style>\n",
       "<table border=\"1\" class=\"dataframe\">\n",
       "  <thead>\n",
       "    <tr style=\"text-align: right;\">\n",
       "      <th></th>\n",
       "      <th>pubdate</th>\n",
       "      <th>title</th>\n",
       "      <th>viewcount</th>\n",
       "    </tr>\n",
       "  </thead>\n",
       "  <tbody>\n",
       "    <tr>\n",
       "      <th>7</th>\n",
       "      <td>2023-02-11T11:00:03Z</td>\n",
       "      <td>최근 항서제약이 주도하는 543명 진행성 간암 1차 치료제 캄렐리주맙+리보세라닙 임...</td>\n",
       "      <td>4587</td>\n",
       "    </tr>\n",
       "    <tr>\n",
       "      <th>5</th>\n",
       "      <td>2023-02-13T12:00:12Z</td>\n",
       "      <td>최근 완전관해가 발생한 따끈따끈한 리보세라닙+캄렐리주맙 임상2상 논문이 나왔습니다!</td>\n",
       "      <td>2775</td>\n",
       "    </tr>\n",
       "    <tr>\n",
       "      <th>9</th>\n",
       "      <td>2023-02-10T08:30:18Z</td>\n",
       "      <td>HLB가 인수한 피에스엠씨는 전환사채 발행이력이 깨끗한 기업입니다. 앞으로 많이 찍...</td>\n",
       "      <td>2204</td>\n",
       "    </tr>\n",
       "  </tbody>\n",
       "</table>\n",
       "</div>"
      ],
      "text/plain": [
       "                pubdate                                              title  \\\n",
       "7  2023-02-11T11:00:03Z  최근 항서제약이 주도하는 543명 진행성 간암 1차 치료제 캄렐리주맙+리보세라닙 임...   \n",
       "5  2023-02-13T12:00:12Z     최근 완전관해가 발생한 따끈따끈한 리보세라닙+캄렐리주맙 임상2상 논문이 나왔습니다!   \n",
       "9  2023-02-10T08:30:18Z  HLB가 인수한 피에스엠씨는 전환사채 발행이력이 깨끗한 기업입니다. 앞으로 많이 찍...   \n",
       "\n",
       "   viewcount  \n",
       "7       4587  \n",
       "5       2775  \n",
       "9       2204  "
      ]
     },
     "execution_count": 38,
     "metadata": {},
     "output_type": "execute_result"
    }
   ],
   "source": [
    "df.head(3)"
   ]
  },
  {
   "cell_type": "markdown",
   "id": "7d30e64c",
   "metadata": {},
   "source": [
    "## 최종코드"
   ]
  },
  {
   "cell_type": "code",
   "execution_count": 1,
   "id": "dec7f6a2",
   "metadata": {},
   "outputs": [],
   "source": [
    "import pandas as pd\n",
    "import numpy as np\n",
    "from tensorflow import keras\n",
    "from googleapiclient.discovery import build\n",
    "\n",
    "def youtube_extract():\n",
    "\n",
    "    API_KEY = \"\"\n",
    "    CHANNEL_ID = \"\"\n",
    "\n",
    "    # 채널ID로 채널PlayList 찾기\n",
    "    youtube = build(\"youtube\", \"v3\", developerKey=API_KEY)\n",
    "    res = youtube.channels().list(id=CHANNEL_ID, part='contentDetails').execute()\n",
    "    CHANNEL_PLAYLIST = res[\"items\"][0][\"contentDetails\"][\"relatedPlaylists\"][\"uploads\"]\n",
    "\n",
    "    # 유튜브 데이터 추출하기 (PubDate, Title, ViewCount)\n",
    "    videos = youtube.playlistItems().list(playlistId=CHANNEL_PLAYLIST, part='snippet', maxResults=11).execute()\n",
    "    items = videos['items']\n",
    "    pubdate = []\n",
    "    title = []\n",
    "    viewcount = []\n",
    "\n",
    "    for item in items:\n",
    "        pubdate.append(item['snippet']['publishedAt'])\n",
    "        title.append(item['snippet']['title'])\n",
    "\n",
    "        videoId = item['snippet']['resourceId']['videoId']\n",
    "        view = youtube.videos().list(id=videoId, part='statistics').execute()\n",
    "        viewcount.append(view['items'][0]['statistics']['viewCount'])\n",
    "\n",
    "    # 조회수 정렬하기\n",
    "    columns = ['pubdate','title','viewcount']\n",
    "    df = pd.DataFrame(data=zip(pubdate, title, viewcount), columns=columns)\n",
    "    df = df[1:]\n",
    "    df['viewcount'] = df['viewcount'].astype('int')\n",
    "    df = df.sort_values('viewcount', ascending=False)\n",
    "    \n",
    "    return df"
   ]
  }
 ],
 "metadata": {
  "kernelspec": {
   "display_name": "Python 3 (ipykernel)",
   "language": "python",
   "name": "python3"
  },
  "language_info": {
   "codemirror_mode": {
    "name": "ipython",
    "version": 3
   },
   "file_extension": ".py",
   "mimetype": "text/x-python",
   "name": "python",
   "nbconvert_exporter": "python",
   "pygments_lexer": "ipython3",
   "version": "3.9.13"
  }
 },
 "nbformat": 4,
 "nbformat_minor": 5
}
