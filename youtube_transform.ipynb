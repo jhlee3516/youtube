{
 "cells": [
  {
   "cell_type": "code",
   "execution_count": 66,
   "id": "6a2d972d",
   "metadata": {},
   "outputs": [],
   "source": [
    "from youtube_extract import youtube_extract"
   ]
  },
  {
   "cell_type": "code",
   "execution_count": 67,
   "id": "60cac036",
   "metadata": {},
   "outputs": [],
   "source": [
    "df = youtube_extract()"
   ]
  },
  {
   "cell_type": "markdown",
   "id": "fc8dab6f",
   "metadata": {},
   "source": [
    "## 순위(Ranking)"
   ]
  },
  {
   "cell_type": "code",
   "execution_count": 68,
   "id": "f491c736",
   "metadata": {},
   "outputs": [],
   "source": [
    "df = df[['viewcount','title']]"
   ]
  },
  {
   "cell_type": "code",
   "execution_count": 69,
   "id": "5cfa5de1",
   "metadata": {},
   "outputs": [],
   "source": [
    "df.reset_index(drop=True, inplace=True)"
   ]
  },
  {
   "cell_type": "code",
   "execution_count": 70,
   "id": "0711884d",
   "metadata": {},
   "outputs": [],
   "source": [
    "df.index = df.index + 1"
   ]
  },
  {
   "cell_type": "code",
   "execution_count": 71,
   "id": "f1f56b57",
   "metadata": {},
   "outputs": [],
   "source": [
    "df.rename(columns = {'viewcount':'조회수', 'title':'제목'}, inplace = True)"
   ]
  },
  {
   "cell_type": "code",
   "execution_count": 72,
   "id": "eb5e73cf",
   "metadata": {},
   "outputs": [],
   "source": [
    "df.index.name = '순위'"
   ]
  },
  {
   "cell_type": "markdown",
   "id": "f34cdf90",
   "metadata": {},
   "source": [
    "순위 조회수 제목"
   ]
  },
  {
   "cell_type": "code",
   "execution_count": 73,
   "id": "79dd68db",
   "metadata": {},
   "outputs": [
    {
     "data": {
      "text/html": [
       "<div>\n",
       "<style scoped>\n",
       "    .dataframe tbody tr th:only-of-type {\n",
       "        vertical-align: middle;\n",
       "    }\n",
       "\n",
       "    .dataframe tbody tr th {\n",
       "        vertical-align: top;\n",
       "    }\n",
       "\n",
       "    .dataframe thead th {\n",
       "        text-align: right;\n",
       "    }\n",
       "</style>\n",
       "<table border=\"1\" class=\"dataframe\">\n",
       "  <thead>\n",
       "    <tr style=\"text-align: right;\">\n",
       "      <th></th>\n",
       "      <th>조회수</th>\n",
       "      <th>제목</th>\n",
       "    </tr>\n",
       "    <tr>\n",
       "      <th>순위</th>\n",
       "      <th></th>\n",
       "      <th></th>\n",
       "    </tr>\n",
       "  </thead>\n",
       "  <tbody>\n",
       "    <tr>\n",
       "      <th>1</th>\n",
       "      <td>4587</td>\n",
       "      <td>최근 항서제약이 주도하는 543명 진행성 간암 1차 치료제 캄렐리주맙+리보세라닙 임...</td>\n",
       "    </tr>\n",
       "    <tr>\n",
       "      <th>2</th>\n",
       "      <td>2775</td>\n",
       "      <td>최근 완전관해가 발생한 따끈따끈한 리보세라닙+캄렐리주맙 임상2상 논문이 나왔습니다!</td>\n",
       "    </tr>\n",
       "    <tr>\n",
       "      <th>3</th>\n",
       "      <td>2204</td>\n",
       "      <td>HLB가 인수한 피에스엠씨는 전환사채 발행이력이 깨끗한 기업입니다. 앞으로 많이 찍...</td>\n",
       "    </tr>\n",
       "    <tr>\n",
       "      <th>4</th>\n",
       "      <td>2019</td>\n",
       "      <td>최근 업데이트되는 임상시험은 죄다 항서제약의 캄렐리주맙+리보세라닙 병용요법입니다! ...</td>\n",
       "    </tr>\n",
       "    <tr>\n",
       "      <th>5</th>\n",
       "      <td>1964</td>\n",
       "      <td>최근 캄렐리주맙+리보세라닙 임상시험 논문이 발표됐습니다! (시너지 이펙트를 찾아서...)</td>\n",
       "    </tr>\n",
       "    <tr>\n",
       "      <th>6</th>\n",
       "      <td>1842</td>\n",
       "      <td>최근 리보세라닙+캄렐리주맙이 간암에서 완전관해 케이스 리포트가 나왔습니다!</td>\n",
       "    </tr>\n",
       "    <tr>\n",
       "      <th>7</th>\n",
       "      <td>1564</td>\n",
       "      <td>HLB 선박사업 물적분할과 영업이익 흑자전환 그리고 상한가</td>\n",
       "    </tr>\n",
       "    <tr>\n",
       "      <th>8</th>\n",
       "      <td>1288</td>\n",
       "      <td>최근 평행설계로 디자인된 화학항암제+표적항암제(리보세라닙)+면역항암제(캄렐리주맙) ...</td>\n",
       "    </tr>\n",
       "    <tr>\n",
       "      <th>9</th>\n",
       "      <td>1030</td>\n",
       "      <td>최근 캄렐리주맙+리보세라닙+chemotherapy 임상시험이 업데이트됐습니다!</td>\n",
       "    </tr>\n",
       "    <tr>\n",
       "      <th>10</th>\n",
       "      <td>842</td>\n",
       "      <td>[내일주가] 인공지능에 등락률하위 종목들을 추가해 주가예측하니 UP이 대폭 증가했습니다!</td>\n",
       "    </tr>\n",
       "  </tbody>\n",
       "</table>\n",
       "</div>"
      ],
      "text/plain": [
       "     조회수                                                 제목\n",
       "순위                                                         \n",
       "1   4587  최근 항서제약이 주도하는 543명 진행성 간암 1차 치료제 캄렐리주맙+리보세라닙 임...\n",
       "2   2775     최근 완전관해가 발생한 따끈따끈한 리보세라닙+캄렐리주맙 임상2상 논문이 나왔습니다!\n",
       "3   2204  HLB가 인수한 피에스엠씨는 전환사채 발행이력이 깨끗한 기업입니다. 앞으로 많이 찍...\n",
       "4   2019  최근 업데이트되는 임상시험은 죄다 항서제약의 캄렐리주맙+리보세라닙 병용요법입니다! ...\n",
       "5   1964  최근 캄렐리주맙+리보세라닙 임상시험 논문이 발표됐습니다! (시너지 이펙트를 찾아서...)\n",
       "6   1842          최근 리보세라닙+캄렐리주맙이 간암에서 완전관해 케이스 리포트가 나왔습니다!\n",
       "7   1564                   HLB 선박사업 물적분할과 영업이익 흑자전환 그리고 상한가\n",
       "8   1288  최근 평행설계로 디자인된 화학항암제+표적항암제(리보세라닙)+면역항암제(캄렐리주맙) ...\n",
       "9   1030        최근 캄렐리주맙+리보세라닙+chemotherapy 임상시험이 업데이트됐습니다!\n",
       "10   842  [내일주가] 인공지능에 등락률하위 종목들을 추가해 주가예측하니 UP이 대폭 증가했습니다!"
      ]
     },
     "execution_count": 73,
     "metadata": {},
     "output_type": "execute_result"
    }
   ],
   "source": [
    "df"
   ]
  },
  {
   "cell_type": "markdown",
   "id": "147fffb1",
   "metadata": {},
   "source": [
    "## 최종코드"
   ]
  },
  {
   "cell_type": "code",
   "execution_count": null,
   "id": "20e22bb8",
   "metadata": {},
   "outputs": [],
   "source": [
    "from youtube_extract import youtube_extract\n",
    "df = youtube_extract()"
   ]
  },
  {
   "cell_type": "code",
   "execution_count": null,
   "id": "71de1723",
   "metadata": {},
   "outputs": [],
   "source": [
    "def youtube_transform(df):\n",
    "    \n",
    "    df = df[['viewcount','title']]\n",
    "    df.reset_index(drop=True, inplace=True)\n",
    "    df.index = df.index + 1\n",
    "    df.rename(columns = {'viewcount':'조회수', 'title':'제목'}, inplace = True)\n",
    "    df.index.name = '순위'\n",
    "    \n",
    "    return df"
   ]
  }
 ],
 "metadata": {
  "kernelspec": {
   "display_name": "Python 3 (ipykernel)",
   "language": "python",
   "name": "python3"
  },
  "language_info": {
   "codemirror_mode": {
    "name": "ipython",
    "version": 3
   },
   "file_extension": ".py",
   "mimetype": "text/x-python",
   "name": "python",
   "nbconvert_exporter": "python",
   "pygments_lexer": "ipython3",
   "version": "3.9.13"
  }
 },
 "nbformat": 4,
 "nbformat_minor": 5
}
