{
 "cells": [
  {
   "cell_type": "markdown",
   "id": "717e85e0",
   "metadata": {},
   "source": [
    "## Data Pipeline\n",
    "Extract       \n",
    "  ↓  \\\n",
    "Transform    \n",
    "↓  \\\n",
    "Analysis  "
   ]
  },
  {
   "cell_type": "code",
   "execution_count": 2,
   "id": "855016d0",
   "metadata": {},
   "outputs": [],
   "source": [
    "from youtube_extract import youtube_extract\n",
    "df = youtube_extract()"
   ]
  },
  {
   "cell_type": "code",
   "execution_count": 3,
   "id": "45d734c0",
   "metadata": {},
   "outputs": [
    {
     "name": "stderr",
     "output_type": "stream",
     "text": [
      "C:\\Users\\user\\Desktop\\youtube\\youtube_transform.py:6: SettingWithCopyWarning: \n",
      "A value is trying to be set on a copy of a slice from a DataFrame\n",
      "\n",
      "See the caveats in the documentation: https://pandas.pydata.org/pandas-docs/stable/user_guide/indexing.html#returning-a-view-versus-a-copy\n",
      "  df.rename(columns = {'viewcount':'조회수', 'title':'제목'}, inplace = True)\n"
     ]
    }
   ],
   "source": [
    "from youtube_transform import youtube_transform\n",
    "df = youtube_transform(df)"
   ]
  },
  {
   "cell_type": "code",
   "execution_count": 4,
   "id": "6d84c8cd",
   "metadata": {},
   "outputs": [
    {
     "data": {
      "text/html": [
       "<div>\n",
       "<style scoped>\n",
       "    .dataframe tbody tr th:only-of-type {\n",
       "        vertical-align: middle;\n",
       "    }\n",
       "\n",
       "    .dataframe tbody tr th {\n",
       "        vertical-align: top;\n",
       "    }\n",
       "\n",
       "    .dataframe thead th {\n",
       "        text-align: right;\n",
       "    }\n",
       "</style>\n",
       "<table border=\"1\" class=\"dataframe\">\n",
       "  <thead>\n",
       "    <tr style=\"text-align: right;\">\n",
       "      <th></th>\n",
       "      <th>조회수</th>\n",
       "      <th>제목</th>\n",
       "    </tr>\n",
       "    <tr>\n",
       "      <th>순위</th>\n",
       "      <th></th>\n",
       "      <th></th>\n",
       "    </tr>\n",
       "  </thead>\n",
       "  <tbody>\n",
       "    <tr>\n",
       "      <th>1</th>\n",
       "      <td>4592</td>\n",
       "      <td>최근 항서제약이 주도하는 543명 진행성 간암 1차 치료제 캄렐리주맙+리보세라닙 임...</td>\n",
       "    </tr>\n",
       "    <tr>\n",
       "      <th>2</th>\n",
       "      <td>2775</td>\n",
       "      <td>최근 완전관해가 발생한 따끈따끈한 리보세라닙+캄렐리주맙 임상2상 논문이 나왔습니다!</td>\n",
       "    </tr>\n",
       "    <tr>\n",
       "      <th>3</th>\n",
       "      <td>2204</td>\n",
       "      <td>HLB가 인수한 피에스엠씨는 전환사채 발행이력이 깨끗한 기업입니다. 앞으로 많이 찍...</td>\n",
       "    </tr>\n",
       "    <tr>\n",
       "      <th>4</th>\n",
       "      <td>2022</td>\n",
       "      <td>최근 리보세라닙+캄렐리주맙이 간암에서 완전관해 케이스 리포트가 나왔습니다!</td>\n",
       "    </tr>\n",
       "    <tr>\n",
       "      <th>5</th>\n",
       "      <td>2020</td>\n",
       "      <td>최근 업데이트되는 임상시험은 죄다 항서제약의 캄렐리주맙+리보세라닙 병용요법입니다! ...</td>\n",
       "    </tr>\n",
       "    <tr>\n",
       "      <th>6</th>\n",
       "      <td>1964</td>\n",
       "      <td>최근 캄렐리주맙+리보세라닙 임상시험 논문이 발표됐습니다! (시너지 이펙트를 찾아서...)</td>\n",
       "    </tr>\n",
       "    <tr>\n",
       "      <th>7</th>\n",
       "      <td>1578</td>\n",
       "      <td>HLB 선박사업 물적분할과 영업이익 흑자전환 그리고 상한가</td>\n",
       "    </tr>\n",
       "    <tr>\n",
       "      <th>8</th>\n",
       "      <td>1288</td>\n",
       "      <td>최근 평행설계로 디자인된 화학항암제+표적항암제(리보세라닙)+면역항암제(캄렐리주맙) ...</td>\n",
       "    </tr>\n",
       "    <tr>\n",
       "      <th>9</th>\n",
       "      <td>847</td>\n",
       "      <td>[내일주가] 인공지능에 등락률하위 종목들을 추가해 주가예측하니 UP이 대폭 증가했습니다!</td>\n",
       "    </tr>\n",
       "    <tr>\n",
       "      <th>10</th>\n",
       "      <td>363</td>\n",
       "      <td>[내일주가] 인공지능의 메타인지능력을 강화해 주가예측을 하려고 합니다!</td>\n",
       "    </tr>\n",
       "  </tbody>\n",
       "</table>\n",
       "</div>"
      ],
      "text/plain": [
       "     조회수                                                 제목\n",
       "순위                                                         \n",
       "1   4592  최근 항서제약이 주도하는 543명 진행성 간암 1차 치료제 캄렐리주맙+리보세라닙 임...\n",
       "2   2775     최근 완전관해가 발생한 따끈따끈한 리보세라닙+캄렐리주맙 임상2상 논문이 나왔습니다!\n",
       "3   2204  HLB가 인수한 피에스엠씨는 전환사채 발행이력이 깨끗한 기업입니다. 앞으로 많이 찍...\n",
       "4   2022          최근 리보세라닙+캄렐리주맙이 간암에서 완전관해 케이스 리포트가 나왔습니다!\n",
       "5   2020  최근 업데이트되는 임상시험은 죄다 항서제약의 캄렐리주맙+리보세라닙 병용요법입니다! ...\n",
       "6   1964  최근 캄렐리주맙+리보세라닙 임상시험 논문이 발표됐습니다! (시너지 이펙트를 찾아서...)\n",
       "7   1578                   HLB 선박사업 물적분할과 영업이익 흑자전환 그리고 상한가\n",
       "8   1288  최근 평행설계로 디자인된 화학항암제+표적항암제(리보세라닙)+면역항암제(캄렐리주맙) ...\n",
       "9    847  [내일주가] 인공지능에 등락률하위 종목들을 추가해 주가예측하니 UP이 대폭 증가했습니다!\n",
       "10   363            [내일주가] 인공지능의 메타인지능력을 강화해 주가예측을 하려고 합니다!"
      ]
     },
     "execution_count": 4,
     "metadata": {},
     "output_type": "execute_result"
    }
   ],
   "source": [
    "df"
   ]
  },
  {
   "cell_type": "markdown",
   "id": "31814c14",
   "metadata": {},
   "source": [
    "## 사용방법\n",
    "<기본 개념>  \n",
    "조회수가  \n",
    "상위권은 겹치고  \n",
    "하위권은 안 겹치는  \n",
    "키워드를 찾습니다.\n",
    "\n",
    "<구체적인 방법>  \n",
    "1등과 2등의 공통점을 찾고  \n",
    "(1등&2등)과 (9등&10등)의 차이점을 찾습니다.  \n",
    "\n",
    "<실제 예시>  \n",
    "조회수 1등과 2등은 ```최근```, ```캄렐리주맙```, ```리보세라닙```이란 키워드가 공통적으로 겹칩니다.  \n",
    "반면에 (9등&10등)의 ```내일주가```, ```인공지능```, ```주가예측``` 키워드와는 겹치지 않습니다.  \n",
    "따라서 키워드는 '최근', '캄렐리주맙', '리보세라닙'으로 선정합니다. "
   ]
  },
  {
   "cell_type": "code",
   "execution_count": 19,
   "id": "e216c0b5",
   "metadata": {},
   "outputs": [
    {
     "name": "stdout",
     "output_type": "stream",
     "text": [
      "<최근 조회수가 높았던 영상제목입니다.>\n",
      "1 최근 항서제약이 주도하는 543명 진행성 간암 1차 치료제 캄렐리주맙+리보세라닙 임상시험이 업데이트됐습니다!\n",
      "2 최근 완전관해가 발생한 따끈따끈한 리보세라닙+캄렐리주맙 임상2상 논문이 나왔습니다!\n"
     ]
    }
   ],
   "source": [
    "print('<최근 조회수가 높았던 영상제목입니다.>')\n",
    "for i, title in enumerate(df['제목'][:2], start=1):\n",
    "    print(i, title)"
   ]
  },
  {
   "cell_type": "code",
   "execution_count": 20,
   "id": "75ce0762",
   "metadata": {},
   "outputs": [
    {
     "name": "stdout",
     "output_type": "stream",
     "text": [
      "<최근 조회수가 낮았던 영상제목입니다.>\n",
      "9 [내일주가] 인공지능에 등락률하위 종목들을 추가해 주가예측하니 UP이 대폭 증가했습니다!\n",
      "10 [내일주가] 인공지능의 메타인지능력을 강화해 주가예측을 하려고 합니다!\n"
     ]
    }
   ],
   "source": [
    "print('<최근 조회수가 낮았던 영상제목입니다.>')\n",
    "for i, title in enumerate(df['제목'][-2:], start=9):\n",
    "    print(i, title)"
   ]
  },
  {
   "cell_type": "markdown",
   "id": "6bc0c208",
   "metadata": {},
   "source": [
    "## 최종코드"
   ]
  },
  {
   "cell_type": "code",
   "execution_count": null,
   "id": "c706e794",
   "metadata": {},
   "outputs": [],
   "source": [
    "from youtube_extract import youtube_extract\n",
    "df = youtube_extract()"
   ]
  },
  {
   "cell_type": "code",
   "execution_count": null,
   "id": "cbc5891a",
   "metadata": {},
   "outputs": [],
   "source": [
    "from youtube_transform import youtube_transform\n",
    "df = youtube_transform(df)"
   ]
  },
  {
   "cell_type": "code",
   "execution_count": null,
   "id": "f8ce056c",
   "metadata": {},
   "outputs": [],
   "source": [
    "def youtube_analysis(df):\n",
    "    \n",
    "    print('<최근 조회수가 높았던 영상제목입니다.>')\n",
    "    for i, title in enumerate(df['제목'][:2], start=1):\n",
    "        print(i, title)\n",
    "\n",
    "    print('<최근 조회수가 낮았던 영상제목입니다.>')\n",
    "    for i, title in enumerate(df['제목'][-2:], start=9):\n",
    "        print(i, title)"
   ]
  }
 ],
 "metadata": {
  "kernelspec": {
   "display_name": "Python 3 (ipykernel)",
   "language": "python",
   "name": "python3"
  },
  "language_info": {
   "codemirror_mode": {
    "name": "ipython",
    "version": 3
   },
   "file_extension": ".py",
   "mimetype": "text/x-python",
   "name": "python",
   "nbconvert_exporter": "python",
   "pygments_lexer": "ipython3",
   "version": "3.9.13"
  }
 },
 "nbformat": 4,
 "nbformat_minor": 5
}
